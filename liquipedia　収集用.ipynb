{
  "nbformat": 4,
  "nbformat_minor": 0,
  "metadata": {
    "colab": {
      "name": "liquipedia　収集用.ipynb",
      "provenance": [],
      "collapsed_sections": [],
      "authorship_tag": "ABX9TyOIXF0G4NGnfZVPU06Yo/6b",
      "include_colab_link": true
    },
    "kernelspec": {
      "name": "python3",
      "display_name": "Python 3"
    }
  },
  "cells": [
    {
      "cell_type": "markdown",
      "metadata": {
        "id": "view-in-github",
        "colab_type": "text"
      },
      "source": [
        "<a href=\"https://colab.research.google.com/github/cinqbox/liquipedia-esports/blob/main/liquipedia%E3%80%80%E5%8F%8E%E9%9B%86%E7%94%A8.ipynb\" target=\"_parent\"><img src=\"https://colab.research.google.com/assets/colab-badge.svg\" alt=\"Open In Colab\"/></a>"
      ]
    },
    {
      "cell_type": "code",
      "metadata": {
        "id": "RtbJ1irEqFA4",
        "outputId": "91ae013f-f940-4160-a4aa-c4f8297454dc",
        "colab": {
          "base_uri": "https://localhost:8080/",
          "height": 422
        }
      },
      "source": [
        "import requests\n",
        "import json\n",
        "import pprint\n",
        "import time\n",
        "import re\n",
        "import pandas as pd\n",
        "\n",
        "# 結果まとめ関数\n",
        "def result(pattern, string):\n",
        "  ans = \"\".join(re.findall(pattern, tes, flags=re.MULTILINE))\n",
        "  return ans\n",
        "\n",
        "\n",
        "\n",
        "# ゲームタイトル\n",
        "game_title = \"arenaofvalor\"\n",
        "S = requests.Session()\n",
        "url = \"https://liquipedia.net/\" + game_title + \"/api.php\"\n",
        "\n",
        "# 日本大会の取得\n",
        "params = {\"action\": \"query\",\n",
        "          \"format\": \"json\",\n",
        "          \"list\": \"categorymembers\",\n",
        "          \"cmprop\": \"title\",\n",
        "          \"cmlimit\": \"100\",\n",
        "          \"cmtitle\": \"Category:Japanese Tournaments\"}\n",
        "\n",
        "R = S.get(url=url, params=params)\n",
        "DATA = R.json()\n",
        "print(R)\n",
        "pprint.pprint(DATA)\n",
        "time.sleep(10)"
      ],
      "execution_count": null,
      "outputs": [
        {
          "output_type": "stream",
          "text": [
            "<Response [200]>\n",
            "{'batchcomplete': '',\n",
            " 'query': {'categorymembers': [{'ns': 2,\n",
            "                                'title': 'User:AIC Qualifying of '\n",
            "                                         'Japan/2019/2019'},\n",
            "                               {'ns': 0, 'title': 'Arena of Japan'},\n",
            "                               {'ns': 0,\n",
            "                                'title': 'Arena of Japan/2019/Event 8'},\n",
            "                               {'ns': 0, 'title': 'Arena of Japan/2020/Final'},\n",
            "                               {'ns': 0,\n",
            "                                'title': 'Arena of Valor International '\n",
            "                                         'Championship/2019/Japan'},\n",
            "                               {'ns': 0,\n",
            "                                'title': 'Arena of Valor Japan '\n",
            "                                         'League/2020/Spring'},\n",
            "                               {'ns': 0,\n",
            "                                'title': 'Arena of Valor World Cup/2019/Japan'},\n",
            "                               {'ns': 0,\n",
            "                                'title': 'Arena of Valor World '\n",
            "                                         'Cup/2019/Japan/Online Qualifier/1'},\n",
            "                               {'ns': 0,\n",
            "                                'title': 'Arena of Valor World '\n",
            "                                         'Cup/2019/Japan/Online Qualifier/2'}]}}\n"
          ],
          "name": "stdout"
        }
      ]
    },
    {
      "cell_type": "code",
      "metadata": {
        "id": "LyxZEZaIqWmD",
        "outputId": "c52c08c4-77ec-414b-f182-d63ecb139cb8",
        "colab": {
          "base_uri": "https://localhost:8080/",
          "height": 175
        }
      },
      "source": [
        "# タイトル一覧を抽出\n",
        "title_list = []\n",
        "title = DATA[\"query\"][\"categorymembers\"]\n",
        "for i in title:\n",
        "  title_list.append(i[\"title\"])\n",
        "  print(i[\"title\"])"
      ],
      "execution_count": null,
      "outputs": [
        {
          "output_type": "stream",
          "text": [
            "User:AIC Qualifying of Japan/2019/2019\n",
            "Arena of Japan\n",
            "Arena of Japan/2019/Event 8\n",
            "Arena of Japan/2020/Final\n",
            "Arena of Valor International Championship/2019/Japan\n",
            "Arena of Valor Japan League/2020/Spring\n",
            "Arena of Valor World Cup/2019/Japan\n",
            "Arena of Valor World Cup/2019/Japan/Online Qualifier/1\n",
            "Arena of Valor World Cup/2019/Japan/Online Qualifier/2\n"
          ],
          "name": "stdout"
        }
      ]
    },
    {
      "cell_type": "code",
      "metadata": {
        "id": "JP-TYmedqb5p",
        "outputId": "0575e5ab-d138-46d9-82bc-ca16a561d88d",
        "colab": {
          "base_uri": "https://localhost:8080/",
          "height": 545
        }
      },
      "source": [
        "# 結果まとめシート\n",
        "result_df = pd.DataFrame()\n",
        "\n",
        "for title in title_list:\n",
        "  # データの取得\n",
        "  params = {\"action\": \"query\",\n",
        "          \"format\": \"json\",\n",
        "          \"prop\": \"revisions\",\n",
        "          \"rvprop\": \"content|ids\",\n",
        "          \"titles\": title}\n",
        "\n",
        "  R = S.get(url=url, params=params)\n",
        "  DATA = R.json()\n",
        "  ids = list(DATA[\"query\"][\"pages\"].keys())[0]\n",
        "  # print(ids)\n",
        "  # print(R)\n",
        "  # pprint.pprint(DATA)\n",
        "\n",
        "  tes = DATA[\"query\"][\"pages\"][ids][\"revisions\"][0]['*']\n",
        "\n",
        "  pattern_prize = r\"^\\|prizepool=(.*?)$\"\n",
        "  pattern_type = r\"^\\|type=(.*?)$\"\n",
        "  pattern_country = r\"^\\|country=(.*?)$\"\n",
        "  pattern_prize_local = r\"^\\|localcurrency=(.*?)$\"\n",
        "  pattern_team_number = r\"^\\|team_number=(.*?)$\"\n",
        "  pattern_name = r\"^\\|name=(.*?)$\"\n",
        "  pattern_prize_usd = r\"^\\|prizepoolusd=(.*?)$\"\n",
        "\n",
        "\n",
        "  prize_local = result(pattern_prize_local, tes)\n",
        "  holdtype = result(pattern_type, tes)\n",
        "  team_number = result(pattern_team_number, tes)\n",
        "  country = result(pattern_country, tes)\n",
        "  name = result(pattern_name, tes)\n",
        "\n",
        "  if prize_local == \"\":\n",
        "    prize = result(pattern_prize_usd, tes)\n",
        "    prize_local = \"usd\"\n",
        "  else:\n",
        "    prize = result(pattern_prize, tes)\n",
        "\n",
        "\n",
        "  dic = {\"大会名\": name, \"賞金\": prize, \"通貨\": prize_local, \"開催方法\": holdtype, \"チーム数\": team_number, \"開催地域\": country}\n",
        "\n",
        "  # print(dic)\n",
        "\n",
        "  # データの整形、結合\n",
        "  df = pd.DataFrame.from_dict(dic, orient='index').T\n",
        "  print(df)\n",
        "  result_df = pd.concat([result_df, df], ignore_index=True)\n",
        "  \n",
        "  # 加重アクセス防止\n",
        "  time.sleep(15)\n"
      ],
      "execution_count": null,
      "outputs": [
        {
          "output_type": "stream",
          "text": [
            "                            大会名 賞金  ... チーム数   開催地域\n",
            "0  AIC 2019 Qualifying of JAPAN     ...    6  Japan\n",
            "\n",
            "[1 rows x 6 columns]\n",
            "              大会名 賞金   通貨    開催方法 チーム数   開催地域\n",
            "0  Arena of JAPAN     usd  Online       Japan\n",
            "                                  大会名 賞金  ...                   チーム数   開催地域\n",
            "0  Arena of Japan - Round 8 ~Revival~     ...  60|teamfirst=blizzard  Japan\n",
            "\n",
            "[1 rows x 6 columns]\n",
            "                               大会名      賞金  ...               チーム数   開催地域\n",
            "0  Arena of Japan Season 1 - Final  25,000  ...  5|teamfirst=scarz  Japan\n",
            "\n",
            "[1 rows x 6 columns]\n",
            "                        大会名 賞金  ...                             チーム数   開催地域\n",
            "0  AIC 2019 Japan Qualifier     ...  6|teamfirst=unsold stuff gaming  Japan\n",
            "\n",
            "[1 rows x 6 columns]\n",
            "                                       大会名 賞金   通貨    開催方法          チーム数   開催地域\n",
            "0  Arena of Valor Japan League Spring 2020     usd  Online  4|teamfirst=  Japan\n",
            "                                             大会名 賞金   通貨     開催方法 チーム数   開催地域\n",
            "0  Arena of Valor World Cup 2019 Japan Qualifier     usd  Offline    4  Japan\n",
            "                                                 大会名 賞金  ... チーム数   開催地域\n",
            "0  Arena of Valor World Cup 2019 Japan Online Qua...     ...   15  Japan\n",
            "\n",
            "[1 rows x 6 columns]\n",
            "                                                 大会名 賞金  ... チーム数   開催地域\n",
            "0  Arena of Valor World Cup 2019 Japan Online Qua...     ...   28  Japan\n",
            "\n",
            "[1 rows x 6 columns]\n"
          ],
          "name": "stdout"
        }
      ]
    },
    {
      "cell_type": "code",
      "metadata": {
        "id": "QtuNV5bHu54i",
        "outputId": "cb8e87cc-0b0b-4f01-c8a7-5924ee73e877",
        "colab": {
          "base_uri": "https://localhost:8080/",
          "height": 314
        }
      },
      "source": [
        "\n",
        "display(result_df)"
      ],
      "execution_count": null,
      "outputs": [
        {
          "output_type": "display_data",
          "data": {
            "text/html": [
              "<div>\n",
              "<style scoped>\n",
              "    .dataframe tbody tr th:only-of-type {\n",
              "        vertical-align: middle;\n",
              "    }\n",
              "\n",
              "    .dataframe tbody tr th {\n",
              "        vertical-align: top;\n",
              "    }\n",
              "\n",
              "    .dataframe thead th {\n",
              "        text-align: right;\n",
              "    }\n",
              "</style>\n",
              "<table border=\"1\" class=\"dataframe\">\n",
              "  <thead>\n",
              "    <tr style=\"text-align: right;\">\n",
              "      <th></th>\n",
              "      <th>大会名</th>\n",
              "      <th>賞金</th>\n",
              "      <th>通貨</th>\n",
              "      <th>開催方法</th>\n",
              "      <th>チーム数</th>\n",
              "      <th>開催地域</th>\n",
              "    </tr>\n",
              "  </thead>\n",
              "  <tbody>\n",
              "    <tr>\n",
              "      <th>0</th>\n",
              "      <td>AIC 2019 Qualifying of JAPAN</td>\n",
              "      <td></td>\n",
              "      <td>usd</td>\n",
              "      <td>'''final:'''&lt;/br&gt;Online&lt;/br&gt;'''Other than the ...</td>\n",
              "      <td>6</td>\n",
              "      <td>Japan</td>\n",
              "    </tr>\n",
              "    <tr>\n",
              "      <th>1</th>\n",
              "      <td>Arena of JAPAN</td>\n",
              "      <td></td>\n",
              "      <td>usd</td>\n",
              "      <td>Online</td>\n",
              "      <td></td>\n",
              "      <td>Japan</td>\n",
              "    </tr>\n",
              "    <tr>\n",
              "      <th>2</th>\n",
              "      <td>Arena of Japan - Round 8 ~Revival~</td>\n",
              "      <td></td>\n",
              "      <td>usd</td>\n",
              "      <td>Online</td>\n",
              "      <td>60|teamfirst=blizzard</td>\n",
              "      <td>Japan</td>\n",
              "    </tr>\n",
              "    <tr>\n",
              "      <th>3</th>\n",
              "      <td>Arena of Japan Season 1 - Final</td>\n",
              "      <td>25,000</td>\n",
              "      <td>jpy</td>\n",
              "      <td>Online</td>\n",
              "      <td>5|teamfirst=scarz</td>\n",
              "      <td>Japan</td>\n",
              "    </tr>\n",
              "    <tr>\n",
              "      <th>4</th>\n",
              "      <td>AIC 2019 Japan Qualifier</td>\n",
              "      <td></td>\n",
              "      <td>usd</td>\n",
              "      <td>Offline &amp; Online</td>\n",
              "      <td>6|teamfirst=unsold stuff gaming</td>\n",
              "      <td>Japan</td>\n",
              "    </tr>\n",
              "    <tr>\n",
              "      <th>5</th>\n",
              "      <td>Arena of Valor Japan League Spring 2020</td>\n",
              "      <td></td>\n",
              "      <td>usd</td>\n",
              "      <td>Online</td>\n",
              "      <td>4|teamfirst=</td>\n",
              "      <td>Japan</td>\n",
              "    </tr>\n",
              "    <tr>\n",
              "      <th>6</th>\n",
              "      <td>Arena of Valor World Cup 2019 Japan Qualifier</td>\n",
              "      <td></td>\n",
              "      <td>usd</td>\n",
              "      <td>Offline</td>\n",
              "      <td>4</td>\n",
              "      <td>Japan</td>\n",
              "    </tr>\n",
              "    <tr>\n",
              "      <th>7</th>\n",
              "      <td>Arena of Valor World Cup 2019 Japan Online Qua...</td>\n",
              "      <td></td>\n",
              "      <td>usd</td>\n",
              "      <td>Online</td>\n",
              "      <td>15</td>\n",
              "      <td>Japan</td>\n",
              "    </tr>\n",
              "    <tr>\n",
              "      <th>8</th>\n",
              "      <td>Arena of Valor World Cup 2019 Japan Online Qua...</td>\n",
              "      <td></td>\n",
              "      <td>usd</td>\n",
              "      <td>Online</td>\n",
              "      <td>28</td>\n",
              "      <td>Japan</td>\n",
              "    </tr>\n",
              "  </tbody>\n",
              "</table>\n",
              "</div>"
            ],
            "text/plain": [
              "                                                 大会名  ...   開催地域\n",
              "0                       AIC 2019 Qualifying of JAPAN  ...  Japan\n",
              "1                                     Arena of JAPAN  ...  Japan\n",
              "2                 Arena of Japan - Round 8 ~Revival~  ...  Japan\n",
              "3                    Arena of Japan Season 1 - Final  ...  Japan\n",
              "4                           AIC 2019 Japan Qualifier  ...  Japan\n",
              "5            Arena of Valor Japan League Spring 2020  ...  Japan\n",
              "6      Arena of Valor World Cup 2019 Japan Qualifier  ...  Japan\n",
              "7  Arena of Valor World Cup 2019 Japan Online Qua...  ...  Japan\n",
              "8  Arena of Valor World Cup 2019 Japan Online Qua...  ...  Japan\n",
              "\n",
              "[9 rows x 6 columns]"
            ]
          },
          "metadata": {
            "tags": []
          }
        }
      ]
    },
    {
      "cell_type": "code",
      "metadata": {
        "id": "wf3I_Hs4ZL3z"
      },
      "source": [
        "import numpy as np\n",
        "result_df.replace(\"\", np.nan, inplace=True)"
      ],
      "execution_count": null,
      "outputs": []
    },
    {
      "cell_type": "code",
      "metadata": {
        "id": "bd81r6bdX2HI",
        "outputId": "45c52236-9136-422c-af20-745b79b683fa",
        "colab": {
          "base_uri": "https://localhost:8080/",
          "height": 34
        }
      },
      "source": [
        "print(len(result_df))"
      ],
      "execution_count": null,
      "outputs": [
        {
          "output_type": "stream",
          "text": [
            "9\n"
          ],
          "name": "stdout"
        }
      ]
    },
    {
      "cell_type": "code",
      "metadata": {
        "id": "fu_VAs8sX7kg",
        "outputId": "eea24660-6896-490a-e669-42d537bc37ab",
        "colab": {
          "base_uri": "https://localhost:8080/",
          "height": 94
        }
      },
      "source": [
        "result_df[\"通貨\"] = result_df[\"通貨\"].str.upper()\n",
        "result_df = result_df.dropna(how=\"any\")\n",
        "result_df = result_df[~result_df[\"大会名\"].duplicated()]\n",
        "print(len(result_df))\n",
        "result_df"
      ],
      "execution_count": null,
      "outputs": [
        {
          "output_type": "stream",
          "text": [
            "1\n"
          ],
          "name": "stdout"
        },
        {
          "output_type": "execute_result",
          "data": {
            "text/html": [
              "<div>\n",
              "<style scoped>\n",
              "    .dataframe tbody tr th:only-of-type {\n",
              "        vertical-align: middle;\n",
              "    }\n",
              "\n",
              "    .dataframe tbody tr th {\n",
              "        vertical-align: top;\n",
              "    }\n",
              "\n",
              "    .dataframe thead th {\n",
              "        text-align: right;\n",
              "    }\n",
              "</style>\n",
              "<table border=\"1\" class=\"dataframe\">\n",
              "  <thead>\n",
              "    <tr style=\"text-align: right;\">\n",
              "      <th></th>\n",
              "      <th>大会名</th>\n",
              "      <th>賞金</th>\n",
              "      <th>通貨</th>\n",
              "      <th>開催方法</th>\n",
              "      <th>チーム数</th>\n",
              "      <th>開催地域</th>\n",
              "    </tr>\n",
              "  </thead>\n",
              "  <tbody>\n",
              "    <tr>\n",
              "      <th>3</th>\n",
              "      <td>Arena of Japan Season 1 - Final</td>\n",
              "      <td>25,000</td>\n",
              "      <td>JPY</td>\n",
              "      <td>Online</td>\n",
              "      <td>5|teamfirst=scarz</td>\n",
              "      <td>Japan</td>\n",
              "    </tr>\n",
              "  </tbody>\n",
              "</table>\n",
              "</div>"
            ],
            "text/plain": [
              "                               大会名      賞金  ...               チーム数   開催地域\n",
              "3  Arena of Japan Season 1 - Final  25,000  ...  5|teamfirst=scarz  Japan\n",
              "\n",
              "[1 rows x 6 columns]"
            ]
          },
          "metadata": {
            "tags": []
          },
          "execution_count": 30
        }
      ]
    },
    {
      "cell_type": "code",
      "metadata": {
        "id": "v3jNzsTHwUEE"
      },
      "source": [
        "result_df.to_csv(game_title + \".csv\", encoding=\"utf-8-sig\", index=False)"
      ],
      "execution_count": null,
      "outputs": []
    },
    {
      "cell_type": "code",
      "metadata": {
        "id": "WGOAXmy3aRlQ"
      },
      "source": [
        ""
      ],
      "execution_count": null,
      "outputs": []
    }
  ]
}