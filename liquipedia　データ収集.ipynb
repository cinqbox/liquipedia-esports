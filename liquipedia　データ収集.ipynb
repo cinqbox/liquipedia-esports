{
  "nbformat": 4,
  "nbformat_minor": 0,
  "metadata": {
    "colab": {
      "name": "liquipedia　データ収集.ipynb",
      "provenance": [],
      "collapsed_sections": [],
      "authorship_tag": "ABX9TyMkUgkRNZX2X4rWHP9Jvyza",
      "include_colab_link": true
    },
    "kernelspec": {
      "name": "python3",
      "display_name": "Python 3"
    }
  },
  "cells": [
    {
      "cell_type": "markdown",
      "metadata": {
        "id": "view-in-github",
        "colab_type": "text"
      },
      "source": [
        "<a href=\"https://colab.research.google.com/github/cinqbox/liquipedia-esports/blob/main/liquipedia%E3%80%80%E3%83%87%E3%83%BC%E3%82%BF%E5%8F%8E%E9%9B%86.ipynb\" target=\"_parent\"><img src=\"https://colab.research.google.com/assets/colab-badge.svg\" alt=\"Open In Colab\"/></a>"
      ]
    },
    {
      "cell_type": "code",
      "metadata": {
        "id": "k1-s58_7L7en"
      },
      "source": [
        "import requests\n",
        "import json\n",
        "import pprint\n",
        "import time\n",
        "import re\n",
        "import pandas as pd\n",
        "import numpy as np\n"
      ],
      "execution_count": 19,
      "outputs": []
    },
    {
      "cell_type": "code",
      "metadata": {
        "id": "gceafhJ_L_5D"
      },
      "source": [
        "# 本文中から特定の部分だけを抽出\n",
        "def Re(pattern, body):\n",
        "    ans = \"\".join(re.findall(pattern, body, flags=re.MULTILINE))\n",
        "    return ans\n",
        "\n",
        "# 大会ごとのデータ取得\n",
        "def getByCompInfo(title_list, url):\n",
        "    result_df = pd.DataFrame()\n",
        "\n",
        "    for title in title_list:\n",
        "        params = {\"action\": \"query\",\n",
        "                \"format\": \"json\",\n",
        "                \"prop\": \"revisions\",\n",
        "                \"rvprop\": \"content|ids\",\n",
        "                \"titles\": title}\n",
        "\n",
        "        S = requests.Session()\n",
        "        R = S.get(url=url, params=params)\n",
        "        DATA = R.json()\n",
        "        ids = list(DATA[\"query\"][\"pages\"].keys())[0]\n",
        "        body = DATA[\"query\"][\"pages\"][ids][\"revisions\"][0]['*']\n",
        "\n",
        "        pattern_prize = r\"^\\|prizepool=(.*?)$\"\n",
        "        pattern_type = r\"^\\|type=(.*?)$\"\n",
        "        pattern_country = r\"^\\|country=(.*?)$\"\n",
        "        pattern_prize_local = r\"^\\|localcurrency=(.*?)$\"\n",
        "        pattern_team_number = r\"^\\|team_number=(.*?)$\"\n",
        "        pattern_name = r\"^\\|name=(.*?)$\"\n",
        "        pattern_prize_usd = r\"^\\|prizepoolusd=(.*?)$\"\n",
        "\n",
        "        prize_local = Re(pattern_prize_local, body)\n",
        "        holdtype = Re(pattern_type, body)\n",
        "        team_number = Re(pattern_team_number, body)\n",
        "        country = Re(pattern_country, body)\n",
        "        name = Re(pattern_name, body)\n",
        "\n",
        "        # 英語\n",
        "        if prize_local == \"\":\n",
        "          prize = Re(pattern_prize_usd, body)\n",
        "          prize_local = \"usd\"\n",
        "        else:\n",
        "          prize = Re(pattern_prize, body)\n",
        "\n",
        "        dic = {\"大会名\": name, \"賞金\": prize, \"通貨\": prize_local, \"開催方法\": holdtype, \"チーム数\": team_number, \"開催地域\": country}\n",
        "        \n",
        "        df = pd.DataFrame.from_dict(dic, orient='index').T\n",
        "        result_df = pd.concat([result_df, df], ignore_index=True)\n",
        "        time.sleep(15)\n",
        "    return result_df\n"
      ],
      "execution_count": 20,
      "outputs": []
    },
    {
      "cell_type": "code",
      "metadata": {
        "id": "R3UEjJ2LQCLd"
      },
      "source": [
        "# データの整形、csv形式にエクスポート\n",
        "def Preprocessing(game_title, result_df):\n",
        "    result_df[\"通貨\"] = result_df[\"通貨\"].str.upper()\n",
        "    result_df = result_df[~result_df[\"大会名\"].duplicated()]\n",
        "    result_df.to_csv(game_title + \".csv\", index=False)\n"
      ],
      "execution_count": 21,
      "outputs": []
    },
    {
      "cell_type": "code",
      "metadata": {
        "id": "9exS44K-NzjN"
      },
      "source": [
        "def getGameInfo(game_title):\n",
        "    S = requests.Session()\n",
        "    url = \"https://liquipedia.net/\" + game_title + \"/api.php\"\n",
        "    params = {\"action\": \"query\",\n",
        "              \"format\": \"json\",\n",
        "              \"list\": \"categorymembers\",\n",
        "              \"cmprop\": \"title\",\n",
        "              \"cmlimit\": \"100\",\n",
        "              \"cmtitle\": \"Category:Japanese Tournaments\"}\n",
        "    R = S.get(url=url, params=params)\n",
        "    DATA = R.json()\n",
        "    time.sleep(10)\n",
        "\n",
        "    # 日本大会一覧を抽出\n",
        "    title_list = []\n",
        "    title = DATA[\"query\"][\"categorymembers\"]\n",
        "    for i in title:\n",
        "      title_list.append(i[\"title\"])\n",
        "\n",
        "    result_df = getByCompInfo(title_list, url)\n",
        "    Preprocessing(game_title, result_df)\n",
        "    print(\"CSV SAVED!!!\")\n",
        "\n",
        "\n",
        "    "
      ],
      "execution_count": 22,
      "outputs": []
    },
    {
      "cell_type": "code",
      "metadata": {
        "colab": {
          "base_uri": "https://localhost:8080/"
        },
        "id": "y6puIj2mSRSc",
        "outputId": "233208b1-cbd2-4dc5-851f-8dec26a56eac"
      },
      "source": [
        "getGameInfo(\"rocketleague\")"
      ],
      "execution_count": 23,
      "outputs": [
        {
          "output_type": "stream",
          "text": [
            "User:AdliWave/Gulliver Aegis Informal Tournament\n",
            "User:AndiiRL/Intel World Open Fantasy\n",
            "DeToNator Invitational/1\n",
            "EGG eSports Challenge/Gulliver Cup/2020\n",
            "EGG eSports Challenge/Gulliver Cup/2020/Qualifier 1\n",
            "EGG eSports Challenge/Gulliver Cup/2020/Qualifier 2\n",
            "User:Hawnty/Logicool G Cup 2018/Finals\n",
            "User:Hawnty/Logicool G Cup 2018/Overview\n",
            "User:Hawnty/Logicool G Cup 2018/Qualifiers\n",
            "User:Hawnty/LogicoolGCup2018\n",
            "Intel World Open\n",
            "Intel World Open/Japan\n",
            "Logicool/G Cup/2018\n",
            "Logicool/G Cup/2018/Qualifier\n",
            "User:NishChahar/primal\n",
            "User:NishChahar/PrimalQuals\n",
            "Primal/Rocket League Japan Series\n",
            "Primal/Rocket League Japan Series/League Play\n",
            "Primal/Rocket League Japan Series/Qualifier 1\n",
            "Primal/Rocket League Japan Series/Qualifier 2\n",
            "CSV SAVED!!!\n"
          ],
          "name": "stdout"
        }
      ]
    },
    {
      "cell_type": "code",
      "metadata": {
        "id": "Bt-ZvaRgSVAY"
      },
      "source": [
        ""
      ],
      "execution_count": 23,
      "outputs": []
    }
  ]
}